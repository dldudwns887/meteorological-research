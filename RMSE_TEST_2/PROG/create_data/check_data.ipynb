{
 "cells": [
  {
   "cell_type": "code",
   "execution_count": 1,
   "metadata": {},
   "outputs": [],
   "source": [
    "# 라이브러리 정의 파트\n",
    "import pandas as pd\n",
    "import numpy as np\n",
    "import matplotlib.pyplot as plt\n",
    "import xarray as xr\n",
    "from mpl_toolkits import basemap\n",
    "import os\n",
    "import glob\n",
    "import netCDF4"
   ]
  },
  {
   "cell_type": "code",
   "execution_count": null,
   "metadata": {},
   "outputs": [],
   "source": []
  },
  {
   "cell_type": "code",
   "execution_count": null,
   "metadata": {},
   "outputs": [],
   "source": [
    "#### mkprism data check ####\n",
    "\n",
    "# setting path\n",
    "path_mkprism = '/home/papalio/test_research/RMSE_TEST_2/DATA/MKPRISE_TA'\n",
    "\n",
    "# mkprism data sample check\n",
    "\n",
    "\n",
    "\n",
    "# mkprism data value distribution"
   ]
  },
  {
   "cell_type": "code",
   "execution_count": null,
   "metadata": {},
   "outputs": [],
   "source": [
    "#### obs data check ####\n",
    "\n",
    "# setting path\n",
    "path_obs = '/home/papalio/test_research/RMSE_TEST_2/DATA/OBS_TA'\n",
    "\n",
    "\n",
    "# obs data sample check\n",
    "\n",
    "\n",
    "# obs data value distribution"
   ]
  }
 ],
 "metadata": {
  "kernelspec": {
   "display_name": "test_app",
   "language": "python",
   "name": "python3"
  },
  "language_info": {
   "codemirror_mode": {
    "name": "ipython",
    "version": 3
   },
   "file_extension": ".py",
   "mimetype": "text/x-python",
   "name": "python",
   "nbconvert_exporter": "python",
   "pygments_lexer": "ipython3",
   "version": "3.11.8"
  }
 },
 "nbformat": 4,
 "nbformat_minor": 2
}
